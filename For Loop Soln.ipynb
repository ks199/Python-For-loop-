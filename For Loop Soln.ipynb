{
 "cells": [
  {
   "cell_type": "code",
   "execution_count": 1,
   "id": "ab542250-e292-405a-9659-ce6a7f300717",
   "metadata": {},
   "outputs": [],
   "source": [
    "l=[1,2,3,4,5]"
   ]
  },
  {
   "cell_type": "code",
   "execution_count": 2,
   "id": "b46d2bdd-3b90-4f74-8cc6-dcf2760314ab",
   "metadata": {},
   "outputs": [
    {
     "data": {
      "text/plain": [
       "[1, 2, 3, 4, 5]"
      ]
     },
     "execution_count": 2,
     "metadata": {},
     "output_type": "execute_result"
    }
   ],
   "source": [
    "l"
   ]
  },
  {
   "cell_type": "code",
   "execution_count": 3,
   "id": "3b28d684-7e0a-40c5-925c-be42e4f81bec",
   "metadata": {},
   "outputs": [
    {
     "ename": "SyntaxError",
     "evalue": "invalid syntax (2345755631.py, line 1)",
     "output_type": "error",
     "traceback": [
      "\u001b[0;36m  Cell \u001b[0;32mIn [3], line 1\u001b[0;36m\u001b[0m\n\u001b[0;31m    for(iinl:)\u001b[0m\n\u001b[0m            ^\u001b[0m\n\u001b[0;31mSyntaxError\u001b[0m\u001b[0;31m:\u001b[0m invalid syntax\n"
     ]
    }
   ],
   "source": [
    "for(iinl:)"
   ]
  },
  {
   "cell_type": "code",
   "execution_count": 9,
   "id": "7dd4e07c-f4ed-42a8-96ae-19ea9f9c777a",
   "metadata": {},
   "outputs": [
    {
     "name": "stdout",
     "output_type": "stream",
     "text": [
      "1\n",
      "2\n",
      "3\n",
      "4\n",
      "5\n"
     ]
    }
   ],
   "source": [
    "for i in l :\n",
    "    print(i)"
   ]
  },
  {
   "cell_type": "code",
   "execution_count": 10,
   "id": "c752d371-1dd8-4c91-99c7-7ca1fb9e1009",
   "metadata": {},
   "outputs": [
    {
     "name": "stdout",
     "output_type": "stream",
     "text": [
      "1 <class 'int'>\n",
      "2 <class 'int'>\n",
      "3 <class 'int'>\n",
      "4 <class 'int'>\n",
      "5 <class 'int'>\n"
     ]
    }
   ],
   "source": [
    "for i in l :\n",
    "    print(i,type(i))"
   ]
  },
  {
   "cell_type": "code",
   "execution_count": 11,
   "id": "913a7cb5-54d8-4157-b0df-6b2216cafdff",
   "metadata": {},
   "outputs": [],
   "source": [
    "l1=['Lord','Shiva','Lord','Hanuman']"
   ]
  },
  {
   "cell_type": "code",
   "execution_count": 12,
   "id": "f614348e-4cf6-4375-8ffb-f2d32caa6004",
   "metadata": {},
   "outputs": [
    {
     "data": {
      "text/plain": [
       "['Lord', 'Shiva', 'Lord', 'Hanuman']"
      ]
     },
     "execution_count": 12,
     "metadata": {},
     "output_type": "execute_result"
    }
   ],
   "source": [
    "l1"
   ]
  },
  {
   "cell_type": "code",
   "execution_count": 13,
   "id": "de8b30a8-509b-4a5e-ac75-ae7d397999de",
   "metadata": {},
   "outputs": [
    {
     "name": "stdout",
     "output_type": "stream",
     "text": [
      "Lord\n",
      "Shiva\n",
      "Lord\n",
      "Hanuman\n"
     ]
    }
   ],
   "source": [
    "for i in l1 :\n",
    "    print(i)"
   ]
  },
  {
   "cell_type": "code",
   "execution_count": 16,
   "id": "0b0f849f-580c-4687-a6f7-79fef68fb9a1",
   "metadata": {},
   "outputs": [
    {
     "name": "stdout",
     "output_type": "stream",
     "text": [
      "Lord <class 'str'>\n",
      "Shiva <class 'str'>\n",
      "Lord <class 'str'>\n",
      "Hanuman <class 'str'>\n"
     ]
    }
   ],
   "source": [
    "for i in l1 :\n",
    "    print(i,type(i))"
   ]
  },
  {
   "cell_type": "code",
   "execution_count": 17,
   "id": "800373b2-9910-4e09-a2da-ec41d7c935bf",
   "metadata": {},
   "outputs": [
    {
     "name": "stdout",
     "output_type": "stream",
     "text": [
      "Lord\n",
      "Shiva\n",
      "Lord\n",
      "Hanuman\n",
      "do something\n"
     ]
    }
   ],
   "source": [
    "for i in l1 :\n",
    "    print(i)\n",
    "else :\n",
    "    print(\"do something\")"
   ]
  },
  {
   "cell_type": "code",
   "execution_count": 18,
   "id": "4291a770-0276-48b8-967e-b029ca12a76d",
   "metadata": {},
   "outputs": [
    {
     "name": "stdout",
     "output_type": "stream",
     "text": [
      "Lord <class 'str'>\n",
      "Shiva <class 'str'>\n",
      "Lord <class 'str'>\n",
      "Hanuman <class 'str'>\n",
      "If for loop is able to perform successfully then please print do something\n"
     ]
    }
   ],
   "source": [
    "for i in l1 :\n",
    "    print(i,type(i))\n",
    "else :\n",
    "    print(\"If for loop is able to perform successfully then please print do something\")"
   ]
  },
  {
   "cell_type": "code",
   "execution_count": 19,
   "id": "00bea759-bd69-4e34-9d7d-b8e672ba886b",
   "metadata": {},
   "outputs": [
    {
     "name": "stdout",
     "output_type": "stream",
     "text": [
      "Lord\n"
     ]
    }
   ],
   "source": [
    "for i in l1 :\n",
    "    if i==\"Shiva\":\n",
    "        break\n",
    "    print(i)   "
   ]
  },
  {
   "cell_type": "code",
   "execution_count": 20,
   "id": "b628af75-e057-4af1-af8d-1c600ed2486e",
   "metadata": {},
   "outputs": [],
   "source": [
    "for i in l1 :\n",
    "    if i==\"Lord\":\n",
    "        break\n",
    "    print(i)"
   ]
  },
  {
   "cell_type": "code",
   "execution_count": 21,
   "id": "f22ef008-0e7e-4960-bca5-07d6850c93c0",
   "metadata": {},
   "outputs": [
    {
     "name": "stdout",
     "output_type": "stream",
     "text": [
      "Lord\n",
      "Shiva\n",
      "Lord\n"
     ]
    }
   ],
   "source": [
    "for i in l1 :\n",
    "    if i==\"Hanuman\":\n",
    "        break\n",
    "    print(i)\n",
    "else:\n",
    "    print(\"Execute this if for loop is able to complete itself\")\n",
    "    "
   ]
  },
  {
   "cell_type": "code",
   "execution_count": 22,
   "id": "459030d8-00ac-42f7-bd1d-f59cbf2e6d7a",
   "metadata": {},
   "outputs": [
    {
     "name": "stdout",
     "output_type": "stream",
     "text": [
      "Shiva\n",
      "Hanuman\n"
     ]
    }
   ],
   "source": [
    "for i in l1 :\n",
    "    if i == \"Lord\":\n",
    "        continue\n",
    "    print(i)"
   ]
  },
  {
   "cell_type": "code",
   "execution_count": null,
   "id": "139877f7-47ec-4abf-96e8-dff197aefcee",
   "metadata": {},
   "outputs": [],
   "source": []
  },
  {
   "cell_type": "code",
   "execution_count": 23,
   "id": "15e041b9-4c3e-4e1c-9f42-9cfd52f65f6c",
   "metadata": {},
   "outputs": [
    {
     "name": "stdout",
     "output_type": "stream",
     "text": [
      "Shiva\n",
      "Hanuman\n",
      "Destroyer\n"
     ]
    }
   ],
   "source": [
    "for i in l1 :\n",
    "    if i == \"Lord\":\n",
    "        continue\n",
    "    print(i)\n",
    "else:\n",
    "    print(\"Destroyer\")"
   ]
  },
  {
   "cell_type": "code",
   "execution_count": 24,
   "id": "7c3a42db-05c7-4df4-9a5d-9f3ffc06bee7",
   "metadata": {},
   "outputs": [
    {
     "data": {
      "text/plain": [
       "range(0, 5)"
      ]
     },
     "execution_count": 24,
     "metadata": {},
     "output_type": "execute_result"
    }
   ],
   "source": [
    "range(5)"
   ]
  },
  {
   "cell_type": "code",
   "execution_count": 25,
   "id": "fcd75d52-51f7-45eb-968b-a1ed73c0c8a0",
   "metadata": {},
   "outputs": [
    {
     "data": {
      "text/plain": [
       "[0, 1, 2, 3, 4]"
      ]
     },
     "execution_count": 25,
     "metadata": {},
     "output_type": "execute_result"
    }
   ],
   "source": [
    "list(range(5))"
   ]
  },
  {
   "cell_type": "code",
   "execution_count": 26,
   "id": "29d669f0-a604-4fae-8100-22bdbe160ee2",
   "metadata": {},
   "outputs": [
    {
     "data": {
      "text/plain": [
       "[0, 1, 2, 3, 4]"
      ]
     },
     "execution_count": 26,
     "metadata": {},
     "output_type": "execute_result"
    }
   ],
   "source": [
    "list(range(0,5))"
   ]
  },
  {
   "cell_type": "code",
   "execution_count": 28,
   "id": "fde39480-bd1e-4655-bab7-778961b4b63b",
   "metadata": {},
   "outputs": [
    {
     "data": {
      "text/plain": [
       "[0, 2, 4]"
      ]
     },
     "execution_count": 28,
     "metadata": {},
     "output_type": "execute_result"
    }
   ],
   "source": [
    "list(range(0,5,2))"
   ]
  },
  {
   "cell_type": "code",
   "execution_count": 29,
   "id": "1f7b55ad-e8ea-4313-a033-8b8ec1788a95",
   "metadata": {},
   "outputs": [
    {
     "data": {
      "text/plain": [
       "[0, 2, 4, 6, 8, 10, 12, 14, 16, 18]"
      ]
     },
     "execution_count": 29,
     "metadata": {},
     "output_type": "execute_result"
    }
   ],
   "source": [
    "list(range(0,20,2))"
   ]
  },
  {
   "cell_type": "code",
   "execution_count": 30,
   "id": "994b05d3-489d-4fda-8afb-042f090f968d",
   "metadata": {},
   "outputs": [
    {
     "data": {
      "text/plain": [
       "[-10, -9, -8, -7, -6, -5, -4, -3, -2, -1]"
      ]
     },
     "execution_count": 30,
     "metadata": {},
     "output_type": "execute_result"
    }
   ],
   "source": [
    "list(range(-10,0))"
   ]
  },
  {
   "cell_type": "code",
   "execution_count": 31,
   "id": "5c7dc8bb-5cac-4de0-83e1-62e5e663aec4",
   "metadata": {},
   "outputs": [
    {
     "data": {
      "text/plain": [
       "[-10, -9, -8, -7, -6, -5, -4, -3, -2, -1, 0, 1, 2, 3, 4, 5, 6, 7, 8, 9]"
      ]
     },
     "execution_count": 31,
     "metadata": {},
     "output_type": "execute_result"
    }
   ],
   "source": [
    "list(range(-10,10))"
   ]
  },
  {
   "cell_type": "code",
   "execution_count": 32,
   "id": "624c9fcb-1b44-460b-8063-690f9a922084",
   "metadata": {},
   "outputs": [
    {
     "data": {
      "text/plain": [
       "[-8, -7, -6, -5, -4, -3, -2, -1, 0, 1, 2, 3, 4, 5, 6, 7]"
      ]
     },
     "execution_count": 32,
     "metadata": {},
     "output_type": "execute_result"
    }
   ],
   "source": [
    "list(range(-8,8))"
   ]
  },
  {
   "cell_type": "code",
   "execution_count": 33,
   "id": "57199359-b9ce-4412-be90-47d2f7d2d719",
   "metadata": {},
   "outputs": [
    {
     "data": {
      "text/plain": [
       "['Lord', 'Shiva', 'Lord', 'Hanuman']"
      ]
     },
     "execution_count": 33,
     "metadata": {},
     "output_type": "execute_result"
    }
   ],
   "source": [
    "l1"
   ]
  },
  {
   "cell_type": "code",
   "execution_count": 34,
   "id": "a2b74939-430a-4870-8a60-20ada802200c",
   "metadata": {},
   "outputs": [
    {
     "data": {
      "text/plain": [
       "4"
      ]
     },
     "execution_count": 34,
     "metadata": {},
     "output_type": "execute_result"
    }
   ],
   "source": [
    "len(l1)"
   ]
  },
  {
   "cell_type": "code",
   "execution_count": 35,
   "id": "0ba5b082-eeff-4d1c-9735-d3eab646a43a",
   "metadata": {},
   "outputs": [
    {
     "data": {
      "text/plain": [
       "[0, 1, 2, 3]"
      ]
     },
     "execution_count": 35,
     "metadata": {},
     "output_type": "execute_result"
    }
   ],
   "source": [
    "list(range(len(l1)))"
   ]
  },
  {
   "cell_type": "code",
   "execution_count": 37,
   "id": "d3c38365-5280-4784-a573-a046bc47b7a1",
   "metadata": {},
   "outputs": [
    {
     "name": "stdout",
     "output_type": "stream",
     "text": [
      "Lord\n",
      "Shiva\n",
      "Lord\n",
      "Hanuman\n"
     ]
    }
   ],
   "source": [
    "for i in range(len(l1)):\n",
    "    print(l1[i])"
   ]
  },
  {
   "cell_type": "code",
   "execution_count": 41,
   "id": "8f5b5894-8dca-4c95-963f-2f67ec957e63",
   "metadata": {},
   "outputs": [
    {
     "data": {
      "text/plain": [
       "range(3, 0)"
      ]
     },
     "execution_count": 41,
     "metadata": {},
     "output_type": "execute_result"
    }
   ],
   "source": [
    "range(len(l1)-1,0)"
   ]
  },
  {
   "cell_type": "code",
   "execution_count": 44,
   "id": "61018259-4d4c-492e-95ea-37cbc555b9a0",
   "metadata": {},
   "outputs": [
    {
     "name": "stdout",
     "output_type": "stream",
     "text": [
      "Hanuman\n",
      "Lord\n",
      "Shiva\n",
      "Lord\n"
     ]
    }
   ],
   "source": [
    "for i in range(len(l1)-1,-1,-1):\n",
    "    print(l1[i])"
   ]
  },
  {
   "cell_type": "code",
   "execution_count": null,
   "id": "5f4b18c2-c0c2-4cbe-af19-4dd6fd06a37e",
   "metadata": {},
   "outputs": [],
   "source": [
    "l2 = [2,4,55,77,88,234,789,345,3434]\n"
   ]
  },
  {
   "cell_type": "code",
   "execution_count": 45,
   "id": "303f1e51-ce46-44b1-b02f-bdc12dd1d55c",
   "metadata": {},
   "outputs": [
    {
     "ename": "NameError",
     "evalue": "name 'l2' is not defined",
     "output_type": "error",
     "traceback": [
      "\u001b[0;31m---------------------------------------------------------------------------\u001b[0m",
      "\u001b[0;31mNameError\u001b[0m                                 Traceback (most recent call last)",
      "Cell \u001b[0;32mIn [45], line 1\u001b[0m\n\u001b[0;32m----> 1\u001b[0m \u001b[43ml2\u001b[49m\n",
      "\u001b[0;31mNameError\u001b[0m: name 'l2' is not defined"
     ]
    }
   ],
   "source": [
    "l2"
   ]
  },
  {
   "cell_type": "code",
   "execution_count": 46,
   "id": "36070fc8-0937-423e-bd2c-52ba6a020622",
   "metadata": {},
   "outputs": [
    {
     "ename": "NameError",
     "evalue": "name 'l2' is not defined",
     "output_type": "error",
     "traceback": [
      "\u001b[0;31m---------------------------------------------------------------------------\u001b[0m",
      "\u001b[0;31mNameError\u001b[0m                                 Traceback (most recent call last)",
      "Cell \u001b[0;32mIn [46], line 1\u001b[0m\n\u001b[0;32m----> 1\u001b[0m \u001b[43ml2\u001b[49m\n",
      "\u001b[0;31mNameError\u001b[0m: name 'l2' is not defined"
     ]
    }
   ],
   "source": [
    "l2\n"
   ]
  },
  {
   "cell_type": "code",
   "execution_count": 47,
   "id": "b485de79-1e85-476e-82ec-2475e01de9da",
   "metadata": {},
   "outputs": [
    {
     "ename": "NameError",
     "evalue": "name 'l2' is not defined",
     "output_type": "error",
     "traceback": [
      "\u001b[0;31m---------------------------------------------------------------------------\u001b[0m",
      "\u001b[0;31mNameError\u001b[0m                                 Traceback (most recent call last)",
      "Cell \u001b[0;32mIn [47], line 1\u001b[0m\n\u001b[0;32m----> 1\u001b[0m \u001b[43ml2\u001b[49m\n",
      "\u001b[0;31mNameError\u001b[0m: name 'l2' is not defined"
     ]
    }
   ],
   "source": [
    "l2"
   ]
  },
  {
   "cell_type": "code",
   "execution_count": 48,
   "id": "9cbe12dd-53f6-4844-82a7-7b08e460c7ac",
   "metadata": {},
   "outputs": [],
   "source": [
    "l3 = [1,1,2,3,4,5,6,7,8,9,99,88,77,654,321]"
   ]
  },
  {
   "cell_type": "code",
   "execution_count": 49,
   "id": "393a1477-46ba-4100-bdfb-f8dfd3003170",
   "metadata": {},
   "outputs": [
    {
     "data": {
      "text/plain": [
       "[1, 1, 2, 3, 4, 5, 6, 7, 8, 9, 99, 88, 77, 654, 321]"
      ]
     },
     "execution_count": 49,
     "metadata": {},
     "output_type": "execute_result"
    }
   ],
   "source": [
    "l3"
   ]
  },
  {
   "cell_type": "code",
   "execution_count": 51,
   "id": "77f3572e-3eb8-4958-9b12-6c34cc862af4",
   "metadata": {},
   "outputs": [
    {
     "data": {
      "text/plain": [
       "[0, 2, 4, 6, 8, 10, 12, 14]"
      ]
     },
     "execution_count": 51,
     "metadata": {},
     "output_type": "execute_result"
    }
   ],
   "source": [
    "list(range(0,len(l3),2))"
   ]
  },
  {
   "cell_type": "code",
   "execution_count": 52,
   "id": "11a5a504-8b70-494a-9f13-4a16128a4621",
   "metadata": {},
   "outputs": [
    {
     "name": "stdout",
     "output_type": "stream",
     "text": [
      "1\n",
      "2\n",
      "4\n",
      "6\n",
      "8\n",
      "99\n",
      "77\n",
      "321\n"
     ]
    }
   ],
   "source": [
    "for i in range (0,len(l3),2) :\n",
    "    print(l3[i])"
   ]
  },
  {
   "cell_type": "code",
   "execution_count": 53,
   "id": "544a25cf-8ef8-4238-be92-e3cc4a2edfab",
   "metadata": {},
   "outputs": [
    {
     "data": {
      "text/plain": [
       "1285"
      ]
     },
     "execution_count": 53,
     "metadata": {},
     "output_type": "execute_result"
    }
   ],
   "source": [
    "sum(l3)"
   ]
  },
  {
   "cell_type": "code",
   "execution_count": 54,
   "id": "918d92f9-66aa-4f70-8932-fc485a0a655c",
   "metadata": {},
   "outputs": [],
   "source": [
    "l4 = [1,2,3,4,5,6]\n"
   ]
  },
  {
   "cell_type": "code",
   "execution_count": 55,
   "id": "35470da5-7d25-4aa8-b1c4-ce06f0a4d270",
   "metadata": {},
   "outputs": [
    {
     "data": {
      "text/plain": [
       "[1, 2, 3, 4, 5, 6]"
      ]
     },
     "execution_count": 55,
     "metadata": {},
     "output_type": "execute_result"
    }
   ],
   "source": [
    "l4"
   ]
  },
  {
   "cell_type": "code",
   "execution_count": 56,
   "id": "d50933b0-25da-45bf-b511-6acf766443a6",
   "metadata": {},
   "outputs": [
    {
     "data": {
      "text/plain": [
       "21"
      ]
     },
     "execution_count": 56,
     "metadata": {},
     "output_type": "execute_result"
    }
   ],
   "source": [
    "result = 0\n",
    "for i in l4:\n",
    "    result = result + i\n",
    "result"
   ]
  },
  {
   "cell_type": "code",
   "execution_count": 57,
   "id": "01f3089a-64ca-40d2-9722-1f657efded4f",
   "metadata": {},
   "outputs": [
    {
     "data": {
      "text/plain": [
       "21"
      ]
     },
     "execution_count": 57,
     "metadata": {},
     "output_type": "execute_result"
    }
   ],
   "source": [
    "sum(l4)"
   ]
  },
  {
   "cell_type": "code",
   "execution_count": 58,
   "id": "e90b29cb-ecef-4fc9-b813-a4540b66a134",
   "metadata": {},
   "outputs": [],
   "source": [
    "t=(1,1,2,2,3,3,4,4,5,5)\n"
   ]
  },
  {
   "cell_type": "code",
   "execution_count": 59,
   "id": "e49aed78-7b3e-4dc4-9ddf-d68ec019d6f3",
   "metadata": {},
   "outputs": [
    {
     "data": {
      "text/plain": [
       "(1, 1, 2, 2, 3, 3, 4, 4, 5, 5)"
      ]
     },
     "execution_count": 59,
     "metadata": {},
     "output_type": "execute_result"
    }
   ],
   "source": [
    "t"
   ]
  },
  {
   "cell_type": "code",
   "execution_count": 60,
   "id": "78646340-bd43-4bb2-ab09-5d546e925250",
   "metadata": {},
   "outputs": [
    {
     "data": {
      "text/plain": [
       "30"
      ]
     },
     "execution_count": 60,
     "metadata": {},
     "output_type": "execute_result"
    }
   ],
   "source": [
    "sum(t)"
   ]
  },
  {
   "cell_type": "code",
   "execution_count": 62,
   "id": "1cde7bf6-87d0-4c13-b8eb-e50f6ee3c6c0",
   "metadata": {},
   "outputs": [
    {
     "data": {
      "text/plain": [
       "30"
      ]
     },
     "execution_count": 62,
     "metadata": {},
     "output_type": "execute_result"
    }
   ],
   "source": [
    "result = 0\n",
    "for i in t:\n",
    "    result = result + i\n",
    "result"
   ]
  },
  {
   "cell_type": "code",
   "execution_count": 63,
   "id": "b813f8cb-ec9b-489b-9671-0d10b477350d",
   "metadata": {},
   "outputs": [],
   "source": [
    "s = {1,2,3,4.45,0.4,'san','ran','can'}"
   ]
  },
  {
   "cell_type": "code",
   "execution_count": 64,
   "id": "7e1438aa-29cd-4872-83b0-6c4ad96fa14d",
   "metadata": {},
   "outputs": [
    {
     "data": {
      "text/plain": [
       "{0.4, 1, 2, 3, 4.45, 'can', 'ran', 'san'}"
      ]
     },
     "execution_count": 64,
     "metadata": {},
     "output_type": "execute_result"
    }
   ],
   "source": [
    "s"
   ]
  },
  {
   "cell_type": "code",
   "execution_count": 65,
   "id": "83e6cf3f-8855-4f81-a680-27d1f145a90c",
   "metadata": {},
   "outputs": [
    {
     "name": "stdout",
     "output_type": "stream",
     "text": [
      "0.4\n",
      "1\n",
      "2\n",
      "3\n",
      "4.45\n",
      "can\n",
      "ran\n",
      "san\n"
     ]
    }
   ],
   "source": [
    "for i in s:\n",
    "    print(i)"
   ]
  },
  {
   "cell_type": "code",
   "execution_count": 66,
   "id": "6f5179f8-5cc2-4b18-ab2f-70b8ce83c4dd",
   "metadata": {},
   "outputs": [],
   "source": [
    "s1 = \"pwskills\""
   ]
  },
  {
   "cell_type": "code",
   "execution_count": 67,
   "id": "813f383f-e540-4cb8-bf9e-f37ec47ce2f4",
   "metadata": {},
   "outputs": [
    {
     "data": {
      "text/plain": [
       "'pwskills'"
      ]
     },
     "execution_count": 67,
     "metadata": {},
     "output_type": "execute_result"
    }
   ],
   "source": [
    "s1"
   ]
  },
  {
   "cell_type": "code",
   "execution_count": 68,
   "id": "7bdec62d-2a94-44bb-8dd0-92c6b8b3399a",
   "metadata": {},
   "outputs": [
    {
     "name": "stdout",
     "output_type": "stream",
     "text": [
      "p\n",
      "w\n",
      "s\n",
      "k\n",
      "i\n",
      "l\n",
      "l\n",
      "s\n"
     ]
    }
   ],
   "source": [
    "for i in s1:\n",
    "    print(i)"
   ]
  },
  {
   "cell_type": "code",
   "execution_count": 73,
   "id": "8f0e4c1a-09ce-4b5b-b227-de36f40344c2",
   "metadata": {},
   "outputs": [],
   "source": [
    "d = {\"name\":\"sanu\",\"class\":\"pwskills\",\"topics\":['python','Ml','NLP','Statistics','PowerBI']}"
   ]
  },
  {
   "cell_type": "code",
   "execution_count": 74,
   "id": "d8862bca-0b5f-4599-baed-58a5cdfbcad2",
   "metadata": {},
   "outputs": [
    {
     "data": {
      "text/plain": [
       "{'name': 'sanu',\n",
       " 'class': 'pwskills',\n",
       " 'topics': ['python', 'Ml', 'NLP', 'Statistics', 'PowerBI']}"
      ]
     },
     "execution_count": 74,
     "metadata": {},
     "output_type": "execute_result"
    }
   ],
   "source": [
    "d\n"
   ]
  },
  {
   "cell_type": "code",
   "execution_count": 75,
   "id": "41a91a5c-a697-4524-aef3-942957986b44",
   "metadata": {},
   "outputs": [
    {
     "data": {
      "text/plain": [
       "dict_keys(['name', 'class', 'topics'])"
      ]
     },
     "execution_count": 75,
     "metadata": {},
     "output_type": "execute_result"
    }
   ],
   "source": [
    "d.keys()"
   ]
  },
  {
   "cell_type": "code",
   "execution_count": 76,
   "id": "85f6e45f-00db-46ba-8916-69b46cc3f777",
   "metadata": {},
   "outputs": [
    {
     "data": {
      "text/plain": [
       "'sanu'"
      ]
     },
     "execution_count": 76,
     "metadata": {},
     "output_type": "execute_result"
    }
   ],
   "source": [
    "d['name']"
   ]
  },
  {
   "cell_type": "code",
   "execution_count": 77,
   "id": "ecba6b14-8204-4ba5-a14b-afd72a1770d2",
   "metadata": {},
   "outputs": [
    {
     "name": "stdout",
     "output_type": "stream",
     "text": [
      "sanu\n",
      "pwskills\n",
      "['python', 'Ml', 'NLP', 'Statistics', 'PowerBI']\n"
     ]
    }
   ],
   "source": [
    "for i in d.keys():\n",
    "    print(d[i])"
   ]
  },
  {
   "cell_type": "code",
   "execution_count": 78,
   "id": "8aac175b-aff6-4641-a809-b328521e682c",
   "metadata": {},
   "outputs": [
    {
     "data": {
      "text/plain": [
       "dict_values(['sanu', 'pwskills', ['python', 'Ml', 'NLP', 'Statistics', 'PowerBI']])"
      ]
     },
     "execution_count": 78,
     "metadata": {},
     "output_type": "execute_result"
    }
   ],
   "source": [
    "d.values()"
   ]
  },
  {
   "cell_type": "code",
   "execution_count": 80,
   "id": "14e81d27-282a-4f0e-b022-9ff60b295db9",
   "metadata": {},
   "outputs": [
    {
     "name": "stdout",
     "output_type": "stream",
     "text": [
      "sanu\n",
      "pwskills\n",
      "['python', 'Ml', 'NLP', 'Statistics', 'PowerBI']\n"
     ]
    }
   ],
   "source": [
    "for i in d.values():\n",
    "    print(i)"
   ]
  },
  {
   "cell_type": "code",
   "execution_count": 81,
   "id": "87550609-cfc8-4ccf-9baf-6dbdd5c5f498",
   "metadata": {},
   "outputs": [
    {
     "name": "stdout",
     "output_type": "stream",
     "text": [
      "('name', 'sanu')\n",
      "('class', 'pwskills')\n",
      "('topics', ['python', 'Ml', 'NLP', 'Statistics', 'PowerBI'])\n"
     ]
    }
   ],
   "source": [
    "for i in d.items():\n",
    "    print(i)"
   ]
  },
  {
   "cell_type": "code",
   "execution_count": null,
   "id": "05f41e5c-cc55-4e81-897b-83626f1406d8",
   "metadata": {},
   "outputs": [],
   "source": []
  }
 ],
 "metadata": {
  "kernelspec": {
   "display_name": "Python 3 (ipykernel)",
   "language": "python",
   "name": "python3"
  },
  "language_info": {
   "codemirror_mode": {
    "name": "ipython",
    "version": 3
   },
   "file_extension": ".py",
   "mimetype": "text/x-python",
   "name": "python",
   "nbconvert_exporter": "python",
   "pygments_lexer": "ipython3",
   "version": "3.10.6"
  }
 },
 "nbformat": 4,
 "nbformat_minor": 5
}
